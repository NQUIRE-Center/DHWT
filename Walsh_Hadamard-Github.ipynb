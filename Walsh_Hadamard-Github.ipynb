{
 "cells": [
  {
   "cell_type": "code",
   "execution_count": null,
   "id": "ac3317a0",
   "metadata": {},
   "outputs": [],
   "source": [
    "from qiskit import QuantumCircuit, transpile, Aer, IBMQ, QuantumRegister, ClassicalRegister, opflow\n",
    "from qiskit.tools.jupyter import *\n",
    "from qiskit.visualization import *\n",
    "from qiskit_aer import AerSimulator\n",
    "import numpy as np\n",
    "import math \n",
    "import json\n",
    "from qiskit.opflow import I, X, Y, Z, MatrixEvolution, PauliTrotterEvolution\n",
    "from qiskit.circuit import Parameter\n",
    "from qiskit.providers.aer import QasmSimulator\n",
    "from qiskit.quantum_info import Statevector\n",
    "import matplotlib.pyplot as plt\n",
    "from qiskit.providers.aer import AerSimulator\n",
    "from scipy.linalg import expm, sinm, cosm\n",
    "import cmath\n",
    "import scipy.integrate as integrate\n",
    "import scipy.special as special\n",
    "import seaborn as sns\n",
    "from numpy import random, linalg as LA\n",
    "from matplotlib.colors import LogNorm, Normalize\n",
    "from matplotlib.ticker import MaxNLocator\n",
    "from scipy.ndimage.filters import gaussian_filter\n",
    "import plotly.express as px\n",
    "import pandas as pd\n",
    "from qiskit.tools.visualization import plot_histogram, plot_state_city\n",
    "import qiskit.quantum_info as qi\n",
    "from qiskit.test.mock import FakeJakarta\n",
    "import plotly.graph_objects as go\n",
    "import warnings\n",
    "from qiskit.circuit.library import RYGate, MCXGate\n",
    "from sympy import fwht"
   ]
  },
  {
   "cell_type": "markdown",
   "id": "51092719-6845-4532-9c02-d7dee3674be2",
   "metadata": {},
   "source": [
    "# 1. Computing the WHT "
   ]
  },
  {
   "cell_type": "code",
   "execution_count": 4,
   "id": "609dc1ab-4af1-4a7e-9594-2de2ab87d942",
   "metadata": {
    "tags": []
   },
   "outputs": [
    {
     "name": "stdout",
     "output_type": "stream",
     "text": [
      "[31.5, -16.0, -8.0, -4.0, -2.0, -1.0, -0.5]\n",
      "[ 0.86260912 -0.43815066 -0.21907533 -0.10953767 -0.05476883 -0.02738442\n",
      " -0.01369221]\n"
     ]
    }
   ],
   "source": [
    "n=6\n",
    "yk=[(2**(n)-1)/2]\n",
    "for k in range(n):\n",
    "    y=-2**(n-2)/2**k\n",
    "    yk.append(y)\n",
    "print(yk)\n",
    "yk=yk/LA.norm(yk)\n",
    "print(yk)"
   ]
  },
  {
   "cell_type": "markdown",
   "id": "89091a4a-72b3-46d2-a755-e4b1925c51c9",
   "metadata": {},
   "source": [
    "# 2. Generate the circuit "
   ]
  },
  {
   "cell_type": "code",
   "execution_count": null,
   "id": "d51631b8",
   "metadata": {},
   "outputs": [],
   "source": [
    "n=6\n",
    "n_qubits=n\n",
    "backend_model=1\n",
    "F=[]\n",
    "L2=[]\n",
    "backend_dict={0:'Statevector',\n",
    "                  1:Aer.get_backend('aer_simulator'), \n",
    "                  2:AerSimulator.from_backend(FakeJakarta()) }#ibmq_belem\n",
    "\n",
    "backend= backend_dict[backend_model]\n",
    "circuit_aprx = QuantumCircuit(n,n)\n",
    "\n",
    "\n",
    "for k0 in range(n+1):\n",
    "    yk_approx=yk\n",
    "    yk_approx = np.concatenate((yk_approx[0:k0+1], np.zeros(n-k0)))\n",
    "   \n",
    "    circuit_aprx = QuantumCircuit(n,n)\n",
    "    circuit_exct = QuantumCircuit(n,n)\n",
    "    \n",
    "    correction=1\n",
    "    correction_aprox=1\n",
    "    ############################################## CIRCUIT for the exact state ###############################################\n",
    "    for i in range(n):\n",
    "\n",
    "        if i==0:\n",
    "\n",
    "            circuit_aprx.ry(2*np.arcsin(yk_approx[1]),n-1)\n",
    "            circuit_exct.ry(2*np.arcsin(yk[1]),n-1)\n",
    "            \n",
    "            correction=correction*np.cos(np.arcsin(yk[1]))\n",
    "            correction_aprox=correction_aprox*np.cos(np.arcsin(yk_approx[1]))\n",
    "            \n",
    "        if i>0:\n",
    "\n",
    "            for k in range(i):\n",
    "                \n",
    "                if i<k0:\n",
    "                    circuit_aprx.x(n-1-k)      \n",
    "                circuit_exct.x(n-1-k) \n",
    "\n",
    "            angle_exct=2*np.arcsin(yk[i+1]/correction) \n",
    "            if i<k0:\n",
    "                angle_aprx=2*np.arcsin(yk_approx[i+1]/correction_aprox) \n",
    "            \n",
    "            \n",
    "            c3ry_exct = RYGate(angle_exct).control(i)\n",
    "            if i<k0:\n",
    "                c3ry_aprx = RYGate(angle_aprx).control(i)\n",
    "\n",
    "            circuit_exct.append(c3ry_exct, list(range(n-i, n))+[n-i-1]) \n",
    "            \n",
    "            if i<k0:\n",
    "                circuit_aprx.append(c3ry_aprx, list(range(n-i, n))+[n-i-1]) \n",
    "            \n",
    "            correction=correction*np.cos(angle_exct/2)\n",
    "            if i<k0:\n",
    "                correction_aprox=correction_aprox*np.cos(angle_aprx/2)\n",
    "            \n",
    "            for k in range(i):\n",
    "                \n",
    "                if i<k0:\n",
    "                    circuit_aprx.x(n-1-k)      \n",
    "                circuit_exct.x(n-1-k) \n",
    "\n",
    "    for i in range(n):\n",
    "        circuit_aprx.h(i) \n",
    "        circuit_exct.h(i) \n",
    "\n",
    "\n",
    "    ############################################# Running the circuit ########################################\n",
    "\n",
    "    tcirc_aprx = transpile(circuit_aprx, backend, optimization_level=1, basis_gates=['id', 'rz', 'sx', 'x', 'cx', 'reset'])\n",
    "    tcirc_exct = transpile(circuit_exct, backend, optimization_level=1, basis_gates=['id', 'rz', 'sx', 'x', 'cx', 'reset'])\n",
    "  \n",
    "    tcirc_aprx.save_statevector(label='state_before') \n",
    "    tcirc_aprx.save_density_matrix(label='rho_before') \n",
    "    tcirc_exct.save_statevector(label='state_before') \n",
    "    tcirc_exct.save_density_matrix(label='rho_before') \n",
    "\n",
    "    job_aprx=backend.run(tcirc_aprx, shots=8000)\n",
    "    results_aprx = job_aprx.result()\n",
    "  \n",
    "    state_aprx=np.array(results_aprx.data(0)['state_before'])\n",
    "    rho_aprx=np.array(results_aprx.data(0)['rho_before'])\n",
    " \n",
    "    job_exct=backend.run(tcirc_exct, shots=8000)\n",
    "    results_exct = job_exct.result()\n",
    "    \n",
    "    state_exct=np.array(results_exct.data(0)['state_before'])\n",
    "    rho_exct=np.array(results_exct.data(0)['rho_before'])\n",
    "\n",
    "    Fidelity=abs(np.array(results_aprx.data(0)['state_before'])@np.array(results_exct.data(0)['state_before']))**2\n",
    "    L2_norm= np.sum(abs(abs(np.array(results_aprx.data(0)['state_before']))-abs(np.array(results_exct.data(0)['state_before']))))/2**(n/2)\n",
    "    plt.plot(state_aprx) \n",
    "    F.append(Fidelity)\n",
    "    L2.append(L2_norm)"
   ]
  },
  {
   "cell_type": "code",
   "execution_count": 10,
   "id": "504e1791",
   "metadata": {},
   "outputs": [],
   "source": [
    "plt.show()"
   ]
  },
  {
   "cell_type": "code",
   "execution_count": null,
   "id": "358df0ca",
   "metadata": {},
   "outputs": [],
   "source": []
  }
 ],
 "metadata": {
  "kernelspec": {
   "display_name": "Python 3 (ipykernel)",
   "language": "python",
   "name": "python3"
  },
  "language_info": {
   "codemirror_mode": {
    "name": "ipython",
    "version": 3
   },
   "file_extension": ".py",
   "mimetype": "text/x-python",
   "name": "python",
   "nbconvert_exporter": "python",
   "pygments_lexer": "ipython3",
   "version": "3.9.17"
  },
  "widgets": {
   "application/vnd.jupyter.widget-state+json": {
    "state": {
     "077cf5cc5a3e4b3aa656bcdf1834c9ff": {
      "model_module": "@jupyter-widgets/base",
      "model_module_version": "2.0.0",
      "model_name": "LayoutModel",
      "state": {
       "grid_area": "right",
       "padding": "0px 0px 0px 0px",
       "width": "70px"
      }
     },
     "13eea772b3614dbb953324acb90a2cda": {
      "model_module": "@jupyter-widgets/controls",
      "model_module_version": "2.0.0",
      "model_name": "HTMLStyleModel",
      "state": {
       "description_width": "",
       "font_size": null,
       "text_color": null
      }
     },
     "1888af11f6dd4691855463269ba78fb3": {
      "model_module": "@jupyter-widgets/controls",
      "model_module_version": "2.0.0",
      "model_name": "ButtonModel",
      "state": {
       "button_style": "primary",
       "description": "Clear",
       "layout": "IPY_MODEL_077cf5cc5a3e4b3aa656bcdf1834c9ff",
       "style": "IPY_MODEL_ad732c56a1c4480b9e22789a2104b3ca",
       "tooltip": null
      }
     },
     "19eaba55520e47cbb3d1f9563d7aa6db": {
      "model_module": "@jupyter-widgets/base",
      "model_module_version": "2.0.0",
      "model_name": "LayoutModel",
      "state": {
       "grid_template_areas": "\n                                       \". . . . right \"\n                                        ",
       "grid_template_columns": "20% 20% 20% 20% 20%",
       "width": "100%"
      }
     },
     "1a1ba42cad474b8ca3e327f330d9c257": {
      "model_module": "@jupyter-widgets/base",
      "model_module_version": "2.0.0",
      "model_name": "LayoutModel",
      "state": {}
     },
     "1d503f9cf0d545f3a452ea44e662b09a": {
      "model_module": "@jupyter-widgets/base",
      "model_module_version": "2.0.0",
      "model_name": "LayoutModel",
      "state": {
       "width": "190px"
      }
     },
     "2aeb3e0b70a74136989fd1fdcb3d2756": {
      "model_module": "@jupyter-widgets/base",
      "model_module_version": "2.0.0",
      "model_name": "LayoutModel",
      "state": {
       "width": "70px"
      }
     },
     "2ec668c18735422e9ecefeda5138d99b": {
      "model_module": "@jupyter-widgets/controls",
      "model_module_version": "2.0.0",
      "model_name": "GridBoxModel",
      "state": {
       "children": [
        "IPY_MODEL_1888af11f6dd4691855463269ba78fb3"
       ],
       "layout": "IPY_MODEL_19eaba55520e47cbb3d1f9563d7aa6db"
      }
     },
     "3a78c40274fc4a87861b1f2b83d26c67": {
      "model_module": "@jupyter-widgets/controls",
      "model_module_version": "2.0.0",
      "model_name": "HTMLStyleModel",
      "state": {
       "description_width": "",
       "font_size": null,
       "text_color": null
      }
     },
     "5a67c799316442c1b43e5f05997805d9": {
      "model_module": "@jupyter-widgets/controls",
      "model_module_version": "2.0.0",
      "model_name": "HTMLModel",
      "state": {
       "layout": "IPY_MODEL_1a1ba42cad474b8ca3e327f330d9c257",
       "style": "IPY_MODEL_76d5053b90924324a01e2b5f19452bd7",
       "value": "<h5>Message</h5>"
      }
     },
     "76d5053b90924324a01e2b5f19452bd7": {
      "model_module": "@jupyter-widgets/controls",
      "model_module_version": "2.0.0",
      "model_name": "HTMLStyleModel",
      "state": {
       "description_width": "",
       "font_size": null,
       "text_color": null
      }
     },
     "777864f814df45129e609f28a6338b3d": {
      "model_module": "@jupyter-widgets/base",
      "model_module_version": "2.0.0",
      "model_name": "LayoutModel",
      "state": {
       "margin": "0px 0px 10px 0px"
      }
     },
     "77a423045b0d4c7e9a9a2620732146ce": {
      "model_module": "@jupyter-widgets/controls",
      "model_module_version": "2.0.0",
      "model_name": "HTMLModel",
      "state": {
       "layout": "IPY_MODEL_2aeb3e0b70a74136989fd1fdcb3d2756",
       "style": "IPY_MODEL_a5a08219b34b46eaaa988f06f01e0c9d",
       "value": "<h5>Queue</h5>"
      }
     },
     "80602a71a63c4214a57d705858636a1c": {
      "model_module": "@jupyter-widgets/controls",
      "model_module_version": "2.0.0",
      "model_name": "HTMLStyleModel",
      "state": {
       "description_width": "",
       "font_size": null,
       "text_color": null
      }
     },
     "828079c290004d529c12551ad0027723": {
      "model_module": "@jupyter-widgets/base",
      "model_module_version": "2.0.0",
      "model_name": "LayoutModel",
      "state": {
       "width": "145px"
      }
     },
     "96f2760fd3bb41109eb2c8803fc97e06": {
      "model_module": "@jupyter-widgets/controls",
      "model_module_version": "2.0.0",
      "model_name": "HTMLModel",
      "state": {
       "layout": "IPY_MODEL_1d503f9cf0d545f3a452ea44e662b09a",
       "style": "IPY_MODEL_f78160e1390746a8883b8c31a906cde4",
       "value": "<h5>Job ID</h5>"
      }
     },
     "a5a08219b34b46eaaa988f06f01e0c9d": {
      "model_module": "@jupyter-widgets/controls",
      "model_module_version": "2.0.0",
      "model_name": "HTMLStyleModel",
      "state": {
       "description_width": "",
       "font_size": null,
       "text_color": null
      }
     },
     "ad732c56a1c4480b9e22789a2104b3ca": {
      "model_module": "@jupyter-widgets/controls",
      "model_module_version": "2.0.0",
      "model_name": "ButtonStyleModel",
      "state": {
       "font_family": null,
       "font_size": null,
       "font_style": null,
       "font_variant": null,
       "font_weight": null,
       "text_color": null,
       "text_decoration": null
      }
     },
     "c51cb1d8e67c4f59bba3bed27dabc889": {
      "model_module": "@jupyter-widgets/base",
      "model_module_version": "2.0.0",
      "model_name": "LayoutModel",
      "state": {
       "margin": "0px 0px 0px 37px",
       "width": "600px"
      }
     },
     "c532edf94da74ae6b761e64bb38a0a7c": {
      "model_module": "@jupyter-widgets/controls",
      "model_module_version": "2.0.0",
      "model_name": "HTMLModel",
      "state": {
       "layout": "IPY_MODEL_828079c290004d529c12551ad0027723",
       "style": "IPY_MODEL_13eea772b3614dbb953324acb90a2cda",
       "value": "<h5>Backend</h5>"
      }
     },
     "e18c6053cb0843bdb370d17d33979368": {
      "model_module": "@jupyter-widgets/controls",
      "model_module_version": "2.0.0",
      "model_name": "HBoxModel",
      "state": {
       "children": [
        "IPY_MODEL_96f2760fd3bb41109eb2c8803fc97e06",
        "IPY_MODEL_c532edf94da74ae6b761e64bb38a0a7c",
        "IPY_MODEL_ee34d3cd83d0495bbcc70212dc211162",
        "IPY_MODEL_77a423045b0d4c7e9a9a2620732146ce",
        "IPY_MODEL_5a67c799316442c1b43e5f05997805d9"
       ],
       "layout": "IPY_MODEL_c51cb1d8e67c4f59bba3bed27dabc889"
      }
     },
     "e5f84d6132b74836aba1342274ab0460": {
      "model_module": "@jupyter-widgets/controls",
      "model_module_version": "2.0.0",
      "model_name": "HTMLModel",
      "state": {
       "layout": "IPY_MODEL_777864f814df45129e609f28a6338b3d",
       "style": "IPY_MODEL_3a78c40274fc4a87861b1f2b83d26c67",
       "value": "<p style='font-family: IBM Plex Sans, Arial, Helvetica, sans-serif; font-size: 20px; font-weight: medium;'>Circuit Properties</p>"
      }
     },
     "ee34d3cd83d0495bbcc70212dc211162": {
      "model_module": "@jupyter-widgets/controls",
      "model_module_version": "2.0.0",
      "model_name": "HTMLModel",
      "state": {
       "layout": "IPY_MODEL_fe97c9e51ab1441cb3a997d1504fa062",
       "style": "IPY_MODEL_80602a71a63c4214a57d705858636a1c",
       "value": "<h5>Status</h5>"
      }
     },
     "f78160e1390746a8883b8c31a906cde4": {
      "model_module": "@jupyter-widgets/controls",
      "model_module_version": "2.0.0",
      "model_name": "HTMLStyleModel",
      "state": {
       "description_width": "",
       "font_size": null,
       "text_color": null
      }
     },
     "fe97c9e51ab1441cb3a997d1504fa062": {
      "model_module": "@jupyter-widgets/base",
      "model_module_version": "2.0.0",
      "model_name": "LayoutModel",
      "state": {
       "width": "95px"
      }
     }
    },
    "version_major": 2,
    "version_minor": 0
   }
  }
 },
 "nbformat": 4,
 "nbformat_minor": 5
}
